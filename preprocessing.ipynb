{
 "cells": [
  {
   "cell_type": "code",
   "execution_count": 8,
   "metadata": {
    "collapsed": false
   },
   "outputs": [],
   "source": [
    "homedir = os.getcwd()"
   ]
  },
  {
   "cell_type": "code",
   "execution_count": 2,
   "metadata": {
    "collapsed": false
   },
   "outputs": [
    {
     "name": "stdout",
     "output_type": "stream",
     "text": [
      "Convert postal code to county...\n"
     ]
    }
   ],
   "source": [
    "# convert postalcode to provincie\n",
    "print('Convert postal code to county...')\n",
    "geo_attr = pd.read_csv(os.path.join(homedir,'post_to_geo_attr.csv'))\n",
    "geo_attr = geo_attr.drop(['Unnamed: 0','LAT','LONG'],axis=1)\n",
    "postal_to_provence = geo_attr[['POSTAL_NUM','NAME_1']].copy().rename(columns={'NAME_1':'PROVENCE'})"
   ]
  },
  {
   "cell_type": "code",
   "execution_count": 3,
   "metadata": {
    "collapsed": false
   },
   "outputs": [
    {
     "name": "stdout",
     "output_type": "stream",
     "text": [
      "Add postalcode to BEID...\n"
     ]
    }
   ],
   "source": [
    "# add postal code to BEID\n",
    "print('Add postalcode to BEID...')\n",
    "beid_to_postal = pd.read_excel(os.path.join(homedir,'abr_postal.xlsx'))\n",
    "beid_to_postal = beid_to_postal.rename(columns={'BeIdentificatie':'BEID','PostcodeNumeriek':'POSTAL_NUM','PostcodeLetters':'POSTAL_LET'})\n",
    "beid_to_postal = beid_to_postal[['BEID','POSTAL_NUM','POSTAL_LET']].copy()"
   ]
  },
  {
   "cell_type": "code",
   "execution_count": 4,
   "metadata": {
    "collapsed": false
   },
   "outputs": [
    {
     "name": "stdout",
     "output_type": "stream",
     "text": [
      "Extracting company names...\n"
     ]
    }
   ],
   "source": [
    "# extract company names\n",
    "print('Extracting company names...')\n",
    "abr_names = pd.read_excel(os.path.join(homedir,'abr_names.xlsx'))\n",
    "abr_names = abr_names.rename(columns={'BeIdentificatie':'BEID'})\n",
    "abr_names = abr_names.drop(['StandId','JuridischeNaam'],axis=1)"
   ]
  },
  {
   "cell_type": "code",
   "execution_count": 5,
   "metadata": {
    "collapsed": false
   },
   "outputs": [
    {
     "name": "stdout",
     "output_type": "stream",
     "text": [
      "Merge all metadata...\n"
     ]
    }
   ],
   "source": [
    "# merge all data\n",
    "print('Merge all metadata...')\n",
    "all_meta = pd.merge(beid_to_postal,postal_to_provence,how='left',on='POSTAL_NUM')\n",
    "all_meta = pd.merge(all_meta,abr_names,how='left',on='BEID')"
   ]
  },
  {
   "cell_type": "code",
   "execution_count": 7,
   "metadata": {
    "collapsed": false
   },
   "outputs": [],
   "source": [
    "# store data\n",
    "all_meta.to_excel(\"metadata.xlsx\")"
   ]
  },
  {
   "cell_type": "code",
   "execution_count": null,
   "metadata": {
    "collapsed": true
   },
   "outputs": [],
   "source": []
  }
 ],
 "metadata": {
  "kernelspec": {
   "display_name": "Python 3",
   "language": "python",
   "name": "python3"
  },
  "language_info": {
   "codemirror_mode": {
    "name": "ipython",
    "version": 3
   },
   "file_extension": ".py",
   "mimetype": "text/x-python",
   "name": "python",
   "nbconvert_exporter": "python",
   "pygments_lexer": "ipython3",
   "version": "3.5.1"
  }
 },
 "nbformat": 4,
 "nbformat_minor": 0
}
